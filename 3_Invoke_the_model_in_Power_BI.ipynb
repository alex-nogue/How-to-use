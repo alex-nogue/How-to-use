{
 "cells": [
  {
   "cell_type": "markdown",
   "metadata": {},
   "source": [
    "# Invoke the deployed model in Power BI\n",
    "\n",
    "Once we have deployed a model using Azure Machine Learning (Studio or service), one can now call this model from Power BI Dataflows.\n",
    "\n",
    "To do so, go to [app.powerbi.com](https://app.powerbi.com), to create the Dataflow on which we are going to invoke our model. Before doing so, one must first create a Workspace to store the Dataflow.\n",
    "\n",
    "These are the steps we are going to follow:\n",
    "- __Create a Workspace__ <br>\n",
    "This is where all our work is going to be packed.\n",
    "- __Create a Dataflow in the Workspace__ <br>\n",
    "This is where the data & model are going to stored.\n",
    "- __Create a Blob Storage in Azure and upload the data__ <br>\n",
    "Upload the data to the cloud to be accessible for Power BI.\n",
    "- __Import the data from the Blob Storage in Dataflow__ <br>\n",
    "Data on which we are going to apply the model. \n",
    "- __Invoke the model in the data just imported__ <br>"
   ]
  },
  {
   "cell_type": "markdown",
   "metadata": {},
   "source": [
    "### Create a workspace\n",
    "\n",
    "To create a workspace, simply go to app.powerbi.com and click on Workspaces as in the following image: \n",
    "\n",
    "<img src=\"pictures/workspace.png\" width=200>\n",
    "\n",
    "Then, click on \"Create a new Workspace\" and give a name and description to your workspace. "
   ]
  },
  {
   "cell_type": "markdown",
   "metadata": {},
   "source": [
    "### Create a Dataflow\n",
    "\n",
    "In the new screen, click on \"Get Started\" under Dataflow. Should look something similat to this:\n",
    "\n",
    "<img src=\"pictures/dataflow.png\" width=200>\n",
    "\n",
    "Then click on Add new entities to import your dataset. Then, select the type of your data. In our case, it is a CSV file, so that we click on:\n",
    "\n",
    "<img src=\"pictures/csv.png\" width=200>\n",
    "\n",
    "In the following screen, we'll have to add the path of our data. I recommend to upload the data into a blob storage in Azure, so that it is much easier for Power BI to access to it. \n",
    "\n",
    "You can do it in two ways. Either from the [portal.azure.com](https://portal.azure.com) or with the AML sdk library. "
   ]
  },
  {
   "cell_type": "markdown",
   "metadata": {},
   "source": [
    "### Create a Blob Storage in Azure and upload your data\n",
    "\n",
    "To create a Blob Storage, go to the [Azure Portal](https://portal.azure.com) and create a Storage Account. A Storage Account is where our Blob Storage is going to be held. Follow this [link](https://docs.microsoft.com/en-gb/azure/storage/common/storage-quickstart-create-account?tabs=azure-portal) to create a Storage Account.\n",
    "\n",
    "Once you have your storage account, we can now create a Blob Storage and upload the data. To do so, run the following cell by specifying the account name and account key (_key1_) of your Storage Account. These can be found by clicking on your newly created Storage Account, as you can see in the following picture:\n",
    "\n",
    "<img src=\"pictures/storage_account.png\">"
   ]
  },
  {
   "cell_type": "code",
   "execution_count": 4,
   "metadata": {},
   "outputs": [
    {
     "data": {
      "text/plain": [
       "<azure.storage.blob.models.ResourceProperties at 0x1e564e2bcf8>"
      ]
     },
     "execution_count": 4,
     "metadata": {},
     "output_type": "execute_result"
    }
   ],
   "source": [
    "from azure.storage.blob import BlockBlobService\n",
    "from azure.storage.blob import PublicAccess\n",
    "\n",
    "# Create a Block Blob in the Storage Account\n",
    "block_blob_service = BlockBlobService(\n",
    "    account_name='createawstorage067944f36', account_key='YaQcFKKyFvVunA8vvvRSck6JdNcSIAbRwGQ8//1kJ22H1u71fjFqVPfx59At2j38wE9JtyoM+xqJicwVi5UaWg==')\n",
    "\n",
    "# Create a Blob (container) in the Block Blob\n",
    "# Here is where the data is going to be stored\n",
    "container_name = 'examplename' # no special characters\n",
    "block_blob_service.create_container(container_name)\n",
    "\n",
    "# Change the access level to Blob or Container\n",
    "# Otherwise, Power BI will not be able to access to the data\n",
    "block_blob_service.set_container_acl(container_name, public_access=PublicAccess.Blob)"
   ]
  },
  {
   "cell_type": "markdown",
   "metadata": {},
   "source": [
    "Now that we have our Blob, we can upload the data on it by running the following cell. The data that is going we are going to upload in our case is found in the _data_ from this repository."
   ]
  },
  {
   "cell_type": "code",
   "execution_count": 6,
   "metadata": {},
   "outputs": [
    {
     "data": {
      "text/plain": [
       "<azure.storage.blob.models.ResourceProperties at 0x1e564e2b518>"
      ]
     },
     "execution_count": 6,
     "metadata": {},
     "output_type": "execute_result"
    }
   ],
   "source": [
    "import os\n",
    "\n",
    "# Change the path if your working with your own data\n",
    "local_path = os.path.join(os.getcwd(),\"data\")\n",
    "local_file_name = \"diabetes.csv\"\n",
    "full_path_to_file = os.path.join(local_path, local_file_name)\n",
    "\n",
    "# Upload the data in the Blob\n",
    "block_blob_service.create_blob_from_path(\n",
    "    container_name, local_file_name, full_path_to_file)"
   ]
  },
  {
   "cell_type": "markdown",
   "metadata": {},
   "source": [
    "### Import the data from the Blob Storage in Dataflow\n",
    "\n",
    "The path of the data can be accessed via the Azure Portal. Go to Storage Accounts -> click on the Storage Account you have created -> Blobs -> click on the created container, here _examplename_ -> click on the name of your data, here _diabetes.csv_. You should have the following screen:\n",
    "\n",
    "<img src=\"pictures/blob.png\" width = 500>\n",
    "\n",
    "The path of the data can be obtained from the _URL_ text box. Copy that URL and paste it on the Power BI Dataflow screen you had before:\n",
    "\n",
    "<img src=\"pictures/import_dataflow.png\" width=400>\n",
    "\n",
    "Click on _Next_ and transform your table in using the Power Query editor at your convenience. Here, we just have to set the first row as header.\n",
    "\n",
    "Then, click on _Save & Close_, set a name and refresh your Workspace. "
   ]
  },
  {
   "cell_type": "markdown",
   "metadata": {},
   "source": [
    "### Invoke the model in the data just imported\n",
    "\n",
    "To call the model on the data, click on _Edit entities_ to access to the Power Query editor and click on _AI Insights_\n",
    "\n",
    "<img src=\"pictures/AI_insights.png\" width=500>\n",
    "\n",
    "In the following screen should appear the model we have created. Here, it was called _diabetes-regression_. Verify all columns are correctly assigned and click on _Apply_. \n",
    "\n",
    "<img src=\"pictures/invoke.png\" width=500>\n",
    "\n",
    "I experience two kind of errors here:\n",
    "- The model doesn't appear: this means that either the model has not been correctly deployed, or that your Power BI subscription doesn't have access to the Azure Subscription. In the first case, review the second script __2_Model_Deplyment__. In the second case, you must grant access to your Power BI subscription as specified in the same script.\n",
    "- The model appears but the variables are not displayed: the model schema has not been correctly generated. Review the second script __2_Model_Deplyment__.\n",
    "\n",
    "Now the model has been applied, you just have to expand the columns that has been created and enjoy working with Machine Learning on Power BI!"
   ]
  }
 ],
 "metadata": {
  "kernelspec": {
   "display_name": "Python 3",
   "language": "python",
   "name": "python3"
  },
  "language_info": {
   "codemirror_mode": {
    "name": "ipython",
    "version": 3
   },
   "file_extension": ".py",
   "mimetype": "text/x-python",
   "name": "python",
   "nbconvert_exporter": "python",
   "pygments_lexer": "ipython3",
   "version": "3.6.8"
  }
 },
 "nbformat": 4,
 "nbformat_minor": 2
}
